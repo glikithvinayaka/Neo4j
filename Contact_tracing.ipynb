{
 "cells": [
  {
   "cell_type": "code",
   "execution_count": 16,
   "id": "32f6f7c1",
   "metadata": {},
   "outputs": [
    {
     "name": "stdout",
     "output_type": "stream",
     "text": [
      "Collecting monotonic\n",
      "  Downloading monotonic-1.6-py2.py3-none-any.whl (8.2 kB)\n",
      "Installing collected packages: monotonic\n",
      "\u001b[31mERROR: pip's dependency resolver does not currently take into account all the packages that are installed. This behaviour is the source of the following dependency conflicts.\n",
      "py2neo 2021.2.3 requires pansi>=2020.7.3, which is not installed.\u001b[0m\u001b[31m\n",
      "\u001b[0mSuccessfully installed monotonic-1.6\n"
     ]
    }
   ],
   "source": [
    "from py2neo import Graph\n",
    "from py2neo.bulk import create_nodes, create_relationships\n",
    "import pandas as pd\n",
    "import json\n",
    "!pip install monotonic\n"
   ]
  },
  {
   "cell_type": "code",
   "execution_count": 7,
   "id": "9f042ace",
   "metadata": {},
   "outputs": [],
   "source": [
    "#load csv as dataframe\n",
    "im_data = pd.read_csv(\"sf_dataset.csv\")\n",
    "   "
   ]
  },
  {
   "cell_type": "code",
   "execution_count": 8,
   "id": "60a8a1c7",
   "metadata": {},
   "outputs": [],
   "source": [
    "#im_data[\"deviceID\"] = im_data[\"deviceID\"].astype(str)\n",
    "\n",
    "# create dataframes for node\n",
    "df_business = im_data.filter([\"business_id\",\"business_name\",\"business_address\",\"latitude\",\"longitude\"])\n",
    "# drop the duplicates so that we just try to insert the node once (multiple times will not work)\n",
    "df_business = df_business.drop_duplicates('business_id', keep='last')\n",
    "# turn the dataframe into json string\n",
    "json_business = df_business.to_json(orient=\"records\")\n",
    "# trun json into dictionarie for the import\n",
    "dict_business = json.loads(json_business)"
   ]
  },
  {
   "cell_type": "code",
   "execution_count": 12,
   "id": "dac70661",
   "metadata": {},
   "outputs": [
    {
     "name": "stdout",
     "output_type": "stream",
     "text": [
      "4998\n"
     ]
    }
   ],
   "source": [
    "# prepare Zip node data\n",
    "df_zip = im_data.filter([\"zip\"])\n",
    "df_zip = df_zip.drop_duplicates('zip', keep='last')\n",
    "json_zip = df_zip.to_json(orient=\"records\")\n",
    "dict_zip = json.loads(json_zip)\n",
    "\n",
    "# prepare person data\n",
    "df_person = im_data.filter([\"user_name\",\"deviceID\"])\n",
    "df_person = df_person.drop_duplicates('deviceID', keep='last')\n",
    "print(len(df_person))\n",
    "json_person = df_person.to_json(orient=\"records\")\n",
    "dict_person = json.loads(json_person)\n",
    "\n",
    "# create dataframes for relationships\n",
    "df_relationship = im_data.filter([\"business_id\",\"deviceID\",\"scan_timestamp\"])\n",
    "json_relationship = df_relationship.to_json(orient=\"records\")\n",
    "dict_relationship = json.loads(json_relationship)\n",
    "\n",
    "df_relationship_zip = im_data.filter([\"business_id\",\"zip\"])\n",
    "df_relationship_zip = df_relationship_zip.drop_duplicates('business_id', keep='last')\n",
    "json_relationship_zip = df_relationship_zip.to_json(orient=\"records\")\n",
    "dict_relationship_zip = json.loads(json_relationship_zip)\n",
    "\n",
    "\n",
    "#print(dict_relationship_zip)\n",
    "#print(dict_relationship)\n"
   ]
  },
  {
   "cell_type": "code",
   "execution_count": 17,
   "id": "bccfd4b3",
   "metadata": {},
   "outputs": [],
   "source": [
    "#connect to neo4j\n",
    "graph = Graph(\"neo4j+s://d684082d.databases.neo4j.io\", auth=(\"neo4j\", \"0IvK23_mmzvdXeR2KZHA2PqtEw029zTevtQQaePe_tc\"))"
   ]
  },
  {
   "cell_type": "code",
   "execution_count": 18,
   "id": "5a800ae3",
   "metadata": {},
   "outputs": [
    {
     "name": "stdout",
     "output_type": "stream",
     "text": [
      "2500\n",
      "36\n",
      "4998\n",
      "None\n",
      "None\n"
     ]
    }
   ],
   "source": [
    "# Create business nodes\n",
    "create_nodes(graph.auto(), dict_business, labels={\"Business\"})\n",
    "print(graph.nodes.match(\"Business\").count())\n",
    "\n",
    "# Create zip nodes\n",
    "create_nodes(graph.auto(), dict_zip, labels={\"Zip\"})\n",
    "print(graph.nodes.match(\"Zip\").count())\n",
    "\n",
    "# create person nodes\n",
    "create_nodes(graph.auto(), dict_person, labels={\"Person\"})\n",
    "print(graph.nodes.match(\"Person\").count())\n",
    "\n",
    "\n",
    "#create relationships people visiting businesses\n",
    "ex_people = []\n",
    "\n",
    "for p in dict_relationship:\n",
    "    \n",
    "    device= p[\"deviceID\"]\n",
    "    business = p[\"business_id\"]\n",
    "\n",
    "    p.pop(\"deviceID\")\n",
    "    p.pop(\"business_id\")\n",
    "    ex_people.append((device,p,business))\n",
    "\n",
    "#print(ex_people)\n",
    "\n",
    "#man_relationship = [(\"5403628525158\",{\"scan_timestamp\":\"2022-03-05 23:19:25\"},\"0311287-01-001\")]\n",
    "rel_pb = create_relationships(graph.auto(), ex_people, \"VISITED\", start_node_key=(\"Person\", \"deviceID\"), end_node_key=(\"Business\", \"business_id\"))\n",
    "print(rel_pb)\n",
    "\n",
    "#create zip and business\n",
    "ex_zip = []\n",
    "\n",
    "for p in dict_relationship_zip:\n",
    "\n",
    "    zip= p[\"zip\"]\n",
    "    business = p[\"business_id\"]\n",
    "    ex_zip.append((business,{\"active\":1},zip))\n",
    "\n",
    "#print(ex_zip)\n",
    "\n",
    "rel_bz = create_relationships(graph.auto(), ex_zip, \"ISLOCATED\", start_node_key=(\"Business\", \"business_id\"), end_node_key=(\"Zip\", \"zip\"))\n",
    "print(rel_bz)\n",
    "\n"
   ]
  },
  {
   "cell_type": "code",
   "execution_count": 22,
   "id": "0d098717",
   "metadata": {},
   "outputs": [
    {
     "data": {
      "text/plain": [
       "\"\\nUse queries in neo4j browser\\n\\nMATCH (p:Person)\\nWHERE p.user_name = 'Likith Vinayaka'\\nRETURN p\\n   \\nMATCH (b:Business)\\nWHERE b.business_id = '0322120-04-001'\\nRETURN b   \\n\\n\""
      ]
     },
     "execution_count": 22,
     "metadata": {},
     "output_type": "execute_result"
    }
   ],
   "source": [
    "\n",
    "from py2neo import Graph, Node, Relationship, NodeMatcher\n",
    "from sqlalchemy import false, null\n",
    "\n",
    "\n",
    "g = Graph(\"neo4j+s://d684082d.databases.neo4j.io\", auth=(\"neo4j\", \"0IvK23_mmzvdXeR2KZHA2PqtEw029zTevtQQaePe_tc\"))\n",
    "matcher = NodeMatcher(g)\n",
    "\n",
    "# Start the transaction\n",
    "tx = g.begin()\n",
    "try:\n",
    "    #Create the user node (does not check of node already exists!!)\n",
    "    a = matcher.match(\"Person\", device_id=\"00000000000039\").first()\n",
    "    if (a== None):\n",
    "\n",
    "        a = Node(\"Person\", device_id=\"00000000000039\", user_name = \"Likith Vinayaka\")\n",
    "        tx.create(a)\n",
    "\n",
    "        # check if node has been created if not raise exception to rollback transaction\n",
    "        if(tx.exists(a) == False):\n",
    "            raise (Exception) \n",
    "\n",
    "    # create the relationship (user)-[VISITED]-(Business)\n",
    "    b = matcher.match(\"Business\", business_id=\"0322120-04-001\").first()\n",
    "\n",
    "    propierties = {\"scan_timestamp\":\"2022-01-01 12:55:55\"}\n",
    "    r = Relationship(a, \"VISITED\", b, **propierties)\n",
    "    r.identity = None\n",
    "    tx.create(r)\n",
    "    \n",
    "    # check if relationship has been created if not raise exception to rollback transaction\n",
    "    if(tx.exists(r) == False):\n",
    "        raise (Exception)\n",
    "\n",
    "    # commit the transaction if everything was successful\n",
    "    g.commit(tx)\n",
    "\n",
    "except Exception as e:\n",
    "    g.rollback(tx) # rollback the transaction on error\n",
    "    print(e)\n",
    "\n",
    "\n",
    "\n",
    "\n",
    "\"\"\"\n",
    "For querying in neo4j browser\n",
    "\n",
    "MATCH (p:Person)\n",
    "WHERE p.user_name = 'Likith Vinayaka'\n",
    "RETURN p\n",
    "   \n",
    "MATCH (b:Business)\n",
    "WHERE b.business_id = '0322120-04-001'\n",
    "RETURN b   \n",
    "\n",
    "\"\"\""
   ]
  },
  {
   "cell_type": "code",
   "execution_count": 23,
   "id": "e7931059",
   "metadata": {},
   "outputs": [
    {
     "name": "stdout",
     "output_type": "stream",
     "text": [
      "8\n",
      "8\n",
      "160\n",
      "140\n",
      "49\n"
     ]
    }
   ],
   "source": [
    "from py2neo import Graph\n",
    "\n",
    "import pprint\n",
    "\n",
    "# create connection\n",
    "g = Graph(\"neo4j+s://d684082d.databases.neo4j.io\", auth=(\"neo4j\", \"0IvK23_mmzvdXeR2KZHA2PqtEw029zTevtQQaePe_tc\"))\n",
    "\n",
    "# [Example 1]\n",
    "\n",
    "# Find where Gilbert went and which zip code the business is in\n",
    "# Using :ISLOCATED only shows the zip (directional + relation specified)\n",
    "result = g.run(\"MATCH (p:Person)-[VISITED]-(Business)-[:ISLOCATED]-(Zip)\\\n",
    "                WHERE p.user_name = 'Gilbert Harris'\\\n",
    "                RETURN p,Business,Zip\").data()\n",
    "#pprint.pprint(result)\n",
    "pprint.pprint(len(result))\n",
    "\n",
    "### Same thing just with an arrow instead of naming the relationship\n",
    "result = g.run(\"MATCH (p:Person)-->(Business)-->(Zip)\\\n",
    "                WHERE p.user_name = 'Gilbert Harris'\\\n",
    "                RETURN p,Business,Zip\").data()\n",
    "#pprint.pprint(result)\n",
    "pprint.pprint(len(result))\n",
    "\n",
    "### Matches more, because the zip doesnt have a direction\n",
    "# Go to AuraDB query UI\n",
    "result = g.run(\"MATCH (p:Person)--(Business)--(Zip)\\\n",
    "                WHERE p.user_name = 'Gilbert Harris'\\\n",
    "                RETURN p,Business,Zip\").data()\n",
    "#pprint.pprint(result)\n",
    "pprint.pprint(len(result))\n",
    "\n",
    "\n",
    "\n",
    "# [Example 2]\n",
    "### Find everyone who went to a Bank using a regex\n",
    "### Play around with the relation and see different results try (-- or <-- or --> ) and expore the results\n",
    "result = g.run(\"MATCH (Business)-[vis:VISITED]-(Person)\\\n",
    "                WHERE Business.business_name =~ '.*Bank.*'\\\n",
    "                RETURN Business,Person\").data()\n",
    "#pprint.pprint(result)\n",
    "pprint.pprint(len(result))\n",
    "\n",
    "### Find everyone who visited a bank on Jan 3rd\n",
    "result = g.run(\"MATCH (p:Person)-[vis:VISITED]-(b:Business)\\\n",
    "                WHERE vis.scan_timestamp =~ '2022-01-03.*' \\\n",
    "                AND b.business_name =~ '.*Bank.*'\\\n",
    "                RETURN b, p\").data()\n",
    "#pprint.pprint(result)\n",
    "pprint.pprint(len(result))\n"
   ]
  }
 ],
 "metadata": {
  "kernelspec": {
   "display_name": "Python 3 (ipykernel)",
   "language": "python",
   "name": "python3"
  },
  "language_info": {
   "codemirror_mode": {
    "name": "ipython",
    "version": 3
   },
   "file_extension": ".py",
   "mimetype": "text/x-python",
   "name": "python",
   "nbconvert_exporter": "python",
   "pygments_lexer": "ipython3",
   "version": "3.10.9"
  }
 },
 "nbformat": 4,
 "nbformat_minor": 5
}
